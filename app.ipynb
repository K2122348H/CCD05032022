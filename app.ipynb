{
 "cells": [
  {
   "cell_type": "code",
   "execution_count": 1,
   "id": "922343f8",
   "metadata": {},
   "outputs": [],
   "source": [
    "from flask import Flask"
   ]
  },
  {
   "cell_type": "code",
   "execution_count": 2,
   "id": "3ef15b9a",
   "metadata": {},
   "outputs": [],
   "source": [
    "app = Flask(__name__)"
   ]
  },
  {
   "cell_type": "code",
   "execution_count": 3,
   "id": "8586fe34",
   "metadata": {},
   "outputs": [],
   "source": [
    "from flask import render_template, request \n",
    "import joblib\n",
    "\n",
    "@app.route(\"/\", methods=[\"GET\",\"POST\"])\n",
    "def index():\n",
    "    if request.method == \"POST\":\n",
    "        income = request.form.get(\"income\")\n",
    "        age = request.form.get(\"age\")\n",
    "        loan = request.form.get(\"loan\")\n",
    "        income = float(income)\n",
    "        age = float(age)\n",
    "        loan = float(loan)\n",
    "        print(income, age, loan)\n",
    "        \n",
    "        model1 = joblib.load(\"CCD_REG\")\n",
    "        pred1 = model1.predict([[income, age, loan]])\n",
    "        s1 = \"The score of credit card default based on Linear Regression is \" + str(pred1)\n",
    "        \n",
    "        model2 = joblib.load(\"CCD_DT\")\n",
    "        pred2 = model2.predict([[income, age, loan]])\n",
    "        s2 = \"The score of credit card default based on Decision Tree is \" + str(pred2)\n",
    "        \n",
    "        model3 = joblib.load(\"CCD_NN\")\n",
    "        pred3 = model3.predict([[income, age, loan]])\n",
    "        s3 = \"The score of credit card default based on Neural Network is \" + str(pred3)\n",
    "        \n",
    "        model4 = joblib.load(\"CCD_GB\")\n",
    "        pred4 = model4.predict([[income, age, loan]])\n",
    "        s4 = \"The score of credit card default based on Gradient Boosting is \" + str(pred4)\n",
    "        \n",
    "        model5 = joblib.load(\"CCD_RF\")\n",
    "        pred5 = model5.predict([[income, age, loan]])\n",
    "        s5 = \"The score of credit card default based on Random Forest is \" + str(pred5)\n",
    "        \n",
    "        return(render_template(\"index.html\", result1=s1,result2=s2,result3=s3,result4=s4,result5=s5))\n",
    "    else:\n",
    "        return(render_template(\"index.html\", result1=\"2\",result2=\"2\",result3=\"2\",result4=\"2\",result5=\"2\"))"
   ]
  },
  {
   "cell_type": "code",
   "execution_count": null,
   "id": "d7af1f3c",
   "metadata": {},
   "outputs": [
    {
     "name": "stdout",
     "output_type": "stream",
     "text": [
      " * Serving Flask app \"__main__\" (lazy loading)\n",
      " * Environment: production\n",
      "\u001b[31m   WARNING: This is a development server. Do not use it in a production deployment.\u001b[0m\n",
      "\u001b[2m   Use a production WSGI server instead.\u001b[0m\n",
      " * Debug mode: off\n"
     ]
    },
    {
     "name": "stderr",
     "output_type": "stream",
     "text": [
      " * Running on http://127.0.0.1:5000/ (Press CTRL+C to quit)\n",
      "127.0.0.1 - - [05/Mar/2022 14:40:18] \"GET / HTTP/1.1\" 200 -\n",
      "127.0.0.1 - - [05/Mar/2022 14:40:18] \"GET /favicon.ico HTTP/1.1\" 404 -\n"
     ]
    },
    {
     "name": "stdout",
     "output_type": "stream",
     "text": [
      "100.0 200.0 300.0\n"
     ]
    },
    {
     "name": "stderr",
     "output_type": "stream",
     "text": [
      "127.0.0.1 - - [05/Mar/2022 14:40:24] \"POST / HTTP/1.1\" 200 -\n",
      "[2022-03-05 14:40:25,317] ERROR in app: Exception on / [POST]\n",
      "Traceback (most recent call last):\n",
      "  File \"/Users/siting/opt/anaconda3/lib/python3.9/site-packages/flask/app.py\", line 2447, in wsgi_app\n",
      "    response = self.full_dispatch_request()\n",
      "  File \"/Users/siting/opt/anaconda3/lib/python3.9/site-packages/flask/app.py\", line 1952, in full_dispatch_request\n",
      "    rv = self.handle_user_exception(e)\n",
      "  File \"/Users/siting/opt/anaconda3/lib/python3.9/site-packages/flask/app.py\", line 1821, in handle_user_exception\n",
      "    reraise(exc_type, exc_value, tb)\n",
      "  File \"/Users/siting/opt/anaconda3/lib/python3.9/site-packages/flask/_compat.py\", line 39, in reraise\n",
      "    raise value\n",
      "  File \"/Users/siting/opt/anaconda3/lib/python3.9/site-packages/flask/app.py\", line 1950, in full_dispatch_request\n",
      "    rv = self.dispatch_request()\n",
      "  File \"/Users/siting/opt/anaconda3/lib/python3.9/site-packages/flask/app.py\", line 1936, in dispatch_request\n",
      "    return self.view_functions[rule.endpoint](**req.view_args)\n",
      "  File \"/var/folders/ts/p7nn183d5sb98yl36vwfhdh40000gn/T/ipykernel_83116/2838902420.py\", line 10, in index\n",
      "    income = float(income)\n",
      "ValueError: could not convert string to float: ''\n",
      "127.0.0.1 - - [05/Mar/2022 14:40:25] \"POST / HTTP/1.1\" 500 -\n",
      "127.0.0.1 - - [05/Mar/2022 14:40:28] \"GET / HTTP/1.1\" 200 -\n",
      "127.0.0.1 - - [05/Mar/2022 14:40:35] \"POST / HTTP/1.1\" 200 -\n"
     ]
    },
    {
     "name": "stdout",
     "output_type": "stream",
     "text": [
      "1.0 3.0 4.0\n"
     ]
    },
    {
     "name": "stderr",
     "output_type": "stream",
     "text": [
      "127.0.0.1 - - [05/Mar/2022 14:40:43] \"POST / HTTP/1.1\" 200 -\n"
     ]
    },
    {
     "name": "stdout",
     "output_type": "stream",
     "text": [
      "1000.0 3000.0 4000.0\n"
     ]
    }
   ],
   "source": [
    "if __name__==\"__main__\":\n",
    "    app.run()"
   ]
  },
  {
   "cell_type": "code",
   "execution_count": null,
   "id": "7048eacf",
   "metadata": {},
   "outputs": [],
   "source": []
  }
 ],
 "metadata": {
  "kernelspec": {
   "display_name": "Python 3 (ipykernel)",
   "language": "python",
   "name": "python3"
  },
  "language_info": {
   "codemirror_mode": {
    "name": "ipython",
    "version": 3
   },
   "file_extension": ".py",
   "mimetype": "text/x-python",
   "name": "python",
   "nbconvert_exporter": "python",
   "pygments_lexer": "ipython3",
   "version": "3.9.7"
  }
 },
 "nbformat": 4,
 "nbformat_minor": 5
}
